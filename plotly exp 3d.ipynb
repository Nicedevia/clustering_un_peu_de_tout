{
 "cells": [
  {
   "cell_type": "markdown",
   "metadata": {},
   "source": [
    "plotly 3 d "
   ]
  },
  {
   "cell_type": "code",
   "execution_count": null,
   "metadata": {},
   "outputs": [],
   "source": [
    "import seaborn as sns\n",
    "import pandas as pd\n",
    "import plotly.express as px\n",
    "from sklearn.preprocessing import StandardScaler\n",
    "from sklearn.decomposition import PCA\n",
    "from sklearn.cluster import KMeans\n",
    "\n",
    "# Charger les données Titanic\n",
    "titanic_data = sns.load_dataset('titanic')\n",
    "\n",
    "# Prétraitement des données\n",
    "titanic_data['sex'].replace(['male', 'female'], [0, 1], inplace=True)\n",
    "titanic_data['embarked'].replace(['S', 'C', 'Q'], [0, 1, 2], inplace=True)\n",
    "selected_features = ['pclass', 'sex', 'age', 'fare', 'parch', 'survived']\n",
    "titanic_data[selected_features] = titanic_data[selected_features].fillna(titanic_data[selected_features].mean())\n",
    "scaler = StandardScaler()\n",
    "scaled_data = scaler.fit_transform(titanic_data[selected_features])\n",
    "\n",
    "# Réduction de dimension à 3D avec PCA\n",
    "pca = PCA(n_components=3)\n",
    "reduced_data_3d = pca.fit_transform(scaled_data)\n",
    "\n",
    "# Ajouter une quatrième dimension avec la taille des points (par exemple, basée sur la colonne 'fare')\n",
    "titanic_data['point_size'] = titanic_data['fare']\n",
    "\n",
    "# Clustering avec K-Means en 3 clusters\n",
    "kmeans = KMeans(n_clusters=3, random_state=0)\n",
    "cluster_labels = kmeans.fit_predict(reduced_data_3d)\n",
    "\n",
    "# Créer un DataFrame avec les données réduites en 3D\n",
    "reduced_df = pd.DataFrame(reduced_data_3d, columns=['X', 'Y', 'Z'])\n",
    "\n",
    "# Ajouter les labels de cluster et la taille des points au DataFrame réduit\n",
    "reduced_df['Cluster'] = cluster_labels\n",
    "reduced_df['Point Size'] = titanic_data['point_size']\n",
    "\n",
    "# Créer un graphique 3D interactif avec Plotly Express\n",
    "fig = px.scatter_3d(reduced_df, x='X', y='Y', z='Z', color='Cluster', size='Point Size',\n",
    "                    opacity=0.7, labels={'X': 'Axe X', 'Y': 'Axe Y', 'Z': 'Axe Z'},\n",
    "                    title='Clustering en 3D avec Plotly')\n",
    "fig.show()"
   ]
  }
 ],
 "metadata": {
  "language_info": {
   "name": "python"
  }
 },
 "nbformat": 4,
 "nbformat_minor": 2
}
